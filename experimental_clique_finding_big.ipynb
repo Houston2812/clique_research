{
 "cells": [
  {
   "cell_type": "markdown",
   "metadata": {},
   "source": [
    "# Execution of different clique finding algorithms"
   ]
  },
  {
   "cell_type": "code",
   "execution_count": 30,
   "metadata": {},
   "outputs": [],
   "source": [
    "from libs import *\n",
    "files = {\n",
    "    \"nc_big\" : \"graphs/multiple/nc_big_clique.json\",\n",
    "    \"sparse_big\" : \"graphs/multiple/sparse_big_clique.json\",\n",
    "    \"dense_big\" : \"graphs/multiple/dense_big_clique.json\",\n",
    "}"
   ]
  },
  {
   "cell_type": "code",
   "execution_count": 31,
   "metadata": {},
   "outputs": [
    {
     "name": "stdout",
     "output_type": "stream",
     "text": [
      "Graph Analysis:\n",
      "Number of nodes: 2137\n",
      "Number of edges: 77564\n",
      "Average degree: 72.59\n",
      "Density: 0.034\n",
      "Maximum clique: {'147', '84', '91', '170', '140', '144', '117', '122', '98', '87', '105', '161', '172', '77', '100', '94', '173', '167', '93', '155', '126', '88', '104', '138', '150', '133', '120', '143', '81', '114', '139', '85', '151', '82', '129', '159', '99', '158', '169', '146', '103', '136', '107', '116', '125', '130', '109', '124', '123', '113', '106', '153', '137', '148', '111', '80', '132', '141', '101', '108', '115', '79', '156', '168', '135', '118', '78', '154', '131', '121', '102', '110', '112', '142', '145', '171', '83', '89', '86', '134', '96', '97', '152', '164', '166', '119', '157', '165', '162', '163', '95', '160', '128', '90', '92', '149', '127'}\n"
     ]
    }
   ],
   "source": [
    "nc_big = files[\"nc_big\"]\n",
    "G_nc_big = load_graph_from_json(nc_big)\n",
    "nc_big_largest = set(analyze_graph(G_nc_big))"
   ]
  },
  {
   "cell_type": "code",
   "execution_count": 32,
   "metadata": {},
   "outputs": [
    {
     "name": "stdout",
     "output_type": "stream",
     "text": [
      "Graph Analysis:\n",
      "Number of nodes: 2137\n",
      "Number of edges: 316173\n",
      "Average degree: 295.90\n",
      "Density: 0.139\n",
      "Maximum clique: {'147', '84', '91', '170', '140', '117', '144', '122', '98', '87', '105', '161', '172', '77', '100', '94', '173', '167', '93', '155', '126', '88', '104', '138', '150', '133', '120', '143', '81', '114', '139', '85', '151', '82', '129', '159', '99', '103', '169', '158', '146', '136', '107', '116', '125', '130', '109', '124', '123', '113', '106', '153', '137', '111', '148', '80', '132', '141', '101', '108', '115', '79', '156', '168', '135', '118', '78', '154', '131', '121', '102', '110', '142', '112', '145', '171', '83', '89', '86', '134', '96', '97', '152', '164', '166', '119', '157', '165', '162', '163', '95', '160', '128', '90', '92', '149', '127'}\n"
     ]
    }
   ],
   "source": [
    "sparse_big = files[\"sparse_big\"]\n",
    "G_sparse_big = load_graph_from_json(sparse_big)\n",
    "sparse_big_largest = set(analyze_graph(G_sparse_big))\n"
   ]
  },
  {
   "cell_type": "code",
   "execution_count": 33,
   "metadata": {},
   "outputs": [],
   "source": [
    "dense_big = files[\"dense_big\"]\n",
    "G_dense_big = load_graph_from_json(dense_big)\n",
    "# dense_big_largest = set(analyze_graph(G_dense_big))\n",
    "\n",
    "max_clique_dense = max([139, 107, 190, 131, 152, 180, 177, 122, 165, 125, 185, 167, 132, 192, 138, 171])\n",
    "# print(max_clique_dense)"
   ]
  },
  {
   "cell_type": "markdown",
   "metadata": {},
   "source": [
    "## Not connected big graph"
   ]
  },
  {
   "cell_type": "code",
   "execution_count": 34,
   "metadata": {},
   "outputs": [
    {
     "name": "stdout",
     "output_type": "stream",
     "text": [
      "Not connected big graph analysis\n",
      "\n",
      "\n",
      "Carraghan-Pardalos experiment\n",
      "optimized_carraghan_pardalos took 0.2002885409 seconds to execute\n",
      "Maximum clique 97: {'153', '137', '111', '148', '147', '80', '132', '84', '91', '170', '140', '141', '101', '144', '117', '122', '98', '108', '79', '115', '87', '156', '105', '161', '168', '172', '77', '127', '100', '94', '173', '167', '135', '118', '78', '93', '154', '131', '155', '121', '126', '102', '88', '110', '112', '142', '145', '104', '138', '171', '150', '83', '133', '89', '120', '143', '81', '86', '134', '114', '96', '97', '139', '152', '164', '85', '166', '119', '151', '157', '165', '82', '129', '162', '163', '95', '159', '160', '128', '99', '90', '103', '146', '158', '92', '169', '136', '107', '116', '149', '125', '130', '109', '123', '124', '113', '106'}\n",
      "CP intersection set 97: {'147', '84', '91', '170', '140', '144', '117', '122', '98', '87', '105', '161', '172', '77', '100', '94', '173', '167', '93', '155', '126', '88', '104', '138', '150', '133', '120', '143', '81', '114', '139', '85', '151', '82', '129', '159', '99', '103', '146', '158', '169', '136', '107', '116', '125', '130', '109', '123', '124', '113', '106', '153', '137', '111', '148', '80', '132', '141', '101', '108', '79', '115', '156', '168', '135', '118', '78', '154', '131', '121', '102', '110', '142', '112', '145', '171', '83', '89', '86', '134', '96', '97', '152', '164', '166', '119', '157', '165', '162', '163', '95', '160', '128', '90', '92', '149', '127'}\n",
      "----------------------------------------------------------------------------------------------------\n"
     ]
    }
   ],
   "source": [
    "print(\"Not connected big graph analysis\\n\\n\")\n",
    "\n",
    "print(\"Carraghan-Pardalos experiment\")\n",
    "nc_big_max_clique_cp = optimized_carraghan_pardalos(G_nc_big)\n",
    "nc_big_intersection_set_cp = nc_big_largest.intersection(nc_big_max_clique_cp)\n",
    "\n",
    "print(f\"Maximum clique {len(nc_big_max_clique_cp)}: {nc_big_max_clique_cp}\")\n",
    "print(f\"CP intersection set {len(nc_big_intersection_set_cp)}: {nc_big_intersection_set_cp}\")\n",
    "print(\"-\"*100)\n",
    "\n"
   ]
  },
  {
   "cell_type": "code",
   "execution_count": 35,
   "metadata": {},
   "outputs": [
    {
     "name": "stdout",
     "output_type": "stream",
     "text": [
      "Bron-Kerbosh experiment\n",
      "find_max_clique took 0.0281937080 seconds to execute\n",
      "Maximum clique 97 <class 'set'>: {'153', '137', '111', '148', '147', '80', '132', '84', '91', '170', '140', '141', '101', '117', '144', '108', '122', '98', '79', '115', '87', '156', '105', '161', '168', '172', '77', '127', '100', '94', '173', '167', '135', '118', '78', '154', '93', '131', '155', '121', '126', '102', '88', '110', '142', '112', '145', '104', '138', '171', '150', '83', '133', '89', '120', '143', '81', '86', '134', '114', '96', '97', '139', '152', '164', '166', '85', '119', '157', '151', '165', '82', '129', '162', '163', '95', '159', '160', '128', '90', '99', '103', '146', '158', '92', '169', '136', '107', '116', '149', '125', '130', '109', '123', '124', '113', '106'}\n",
      "BK intersection set 97: {'147', '84', '91', '170', '140', '117', '144', '122', '98', '87', '105', '161', '172', '77', '100', '94', '173', '167', '93', '155', '126', '88', '104', '138', '150', '133', '120', '143', '81', '114', '139', '85', '151', '82', '129', '159', '99', '103', '146', '158', '169', '136', '107', '116', '125', '130', '109', '123', '124', '113', '106', '153', '137', '111', '148', '80', '132', '141', '101', '108', '79', '115', '156', '168', '135', '118', '78', '154', '131', '121', '102', '110', '112', '142', '145', '171', '83', '89', '86', '134', '96', '97', '152', '164', '166', '119', '157', '165', '162', '163', '95', '160', '128', '90', '92', '149', '127'}\n",
      "----------------------------------------------------------------------------------------------------\n"
     ]
    }
   ],
   "source": [
    "print(\"Bron-Kerbosh experiment\")\n",
    "bk_solver = BronKerbosch(G_nc_big)\n",
    "nc_big_max_clique_bk: set = bk_solver.find_max_clique()\n",
    "nc_big_intersection_set_bk = nc_big_largest.intersection(nc_big_max_clique_bk)\n",
    "\n",
    "print(f\"Maximum clique {len(nc_big_max_clique_bk)} {type(nc_big_max_clique_bk)}: {nc_big_max_clique_bk}\")\n",
    "print(f\"BK intersection set {len(nc_big_intersection_set_bk)}: {nc_big_intersection_set_bk}\")\n",
    "print(\"-\"*100)"
   ]
  },
  {
   "cell_type": "code",
   "execution_count": 47,
   "metadata": {},
   "outputs": [
    {
     "name": "stdout",
     "output_type": "stream",
     "text": [
      "Tabu-Search experiment\n",
      "find_maximum_clique took 1.4541251669 seconds to execute\n",
      "Maximum clique 84: {'1528', '1517', '1577', '1522', '1550', '1543', '1519', '1535', '1582', '1568', '1562', '1597', '1542', '1571', '1520', '1526', '1583', '1586', '1525', '1580', '1585', '1529', '1596', '1552', '1587', '1567', '1521', '1549', '1518', '1523', '1534', '1538', '1584', '1572', '1530', '1563', '1599', '1548', '1545', '1574', '1579', '1581', '1539', '1531', '1527', '1557', '1598', '1546', '1565', '1570', '1592', '1578', '1564', '1593', '1588', '1544', '1554', '1594', '1559', '1595', '1560', '1547', '1569', '1524', '1590', '1532', '1575', '1566', '1551', '1556', '1555', '1591', '1573', '1536', '1537', '1541', '1553', '1558', '1533', '1589', '1540', '1561', '1576', '1600'}\n",
      "Tabu intersection set 0: set()\n",
      "----------------------------------------------------------------------------------------------------\n"
     ]
    }
   ],
   "source": [
    "print(\"Tabu-Search experiment\")\n",
    "tabu_solver: TabuCliqueFinder = TabuCliqueFinder(G_nc_big, tabu_tenure=20, max_iterations=800)\n",
    "\n",
    "nc_big_max_clique_tabu: set = tabu_solver.find_maximum_clique()\n",
    "nc_big_intersection_set_tabu = nc_big_largest.intersection(nc_big_max_clique_tabu)\n",
    "\n",
    "print(f\"Maximum clique {len(nc_big_max_clique_tabu)}: {nc_big_max_clique_tabu}\")\n",
    "print(f\"Tabu intersection set {len(nc_big_intersection_set_tabu)}: {nc_big_intersection_set_tabu}\")\n",
    "print(\"-\"*100)"
   ]
  },
  {
   "cell_type": "code",
   "execution_count": 48,
   "metadata": {},
   "outputs": [
    {
     "name": "stdout",
     "output_type": "stream",
     "text": [
      "Nodes: 2137\n",
      "Tuned Tabu-Search experiment\n",
      "find_maximum_clique took 1.7237384161 seconds to execute\n",
      "Maximum clique 93: {'1055', '1029', '991', '1047', '1003', '1018', '982', '1000', '1060', '1011', '1024', '1009', '1054', '969', '1058', '1057', '1045', '1034', '1027', '999', '974', '1020', '1016', '989', '979', '983', '992', '980', '1006', '1056', '1052', '1014', '1059', '1025', '1042', '981', '1013', '1041', '970', '997', '986', '1051', '1036', '1033', '1019', '1015', '987', '1039', '990', '972', '1044', '1049', '1005', '988', '1053', '1031', '994', '1007', '1002', '976', '1017', '1040', '996', '1010', '977', '1037', '1026', '1008', '984', '1032', '998', '1028', '985', '995', '1021', '1048', '971', '1043', '978', '975', '1001', '1035', '1030', '1038', '968', '1022', '993', '1012', '1050', '1023', '973', '1046', '1004'}\n",
      "Tabu intersection set 0: set()\n",
      "----------------------------------------------------------------------------------------------------\n"
     ]
    }
   ],
   "source": [
    "nodes: int = G_nc_big.number_of_nodes() \n",
    "tabu_tenure: int = nodes // 4\n",
    "\n",
    "print(f\"Nodes: {nodes}\")\n",
    "\n",
    "print(\"Tuned Tabu-Search experiment\")\n",
    "nc_tabu_solver_2: TabuCliqueFinder = TabuCliqueFinder(G_nc_big, tabu_tenure=tabu_tenure, max_iterations=800)\n",
    "nc_big_max_clique_tabu_2: set = nc_tabu_solver_2.find_maximum_clique()\n",
    "nc_big_intersection_set_tabu_2 = nc_big_largest.intersection(nc_big_max_clique_tabu_2)\n",
    "\n",
    "print(f\"Maximum clique {len(nc_big_max_clique_tabu_2)}: {nc_big_max_clique_tabu_2}\")\n",
    "print(f\"Tabu intersection set {len(nc_big_intersection_set_tabu_2)}: {nc_big_intersection_set_tabu_2}\")\n",
    "print(\"-\"*100)"
   ]
  },
  {
   "cell_type": "markdown",
   "metadata": {},
   "source": [
    "## Sparsely Connected Big Graph"
   ]
  },
  {
   "cell_type": "code",
   "execution_count": null,
   "metadata": {},
   "outputs": [],
   "source": [
    "print(\"Sparsly connected big graph\\n\\n\")\n",
    "\n",
    "print(\"Carraghan-Pardalos experiment\")\n",
    "# cp_solver: CarraghanPardalosCF = CarraghanPardalosCF(G_sparse_big)\n",
    "# sparse_big_max_clique_cp: set = cp_solver.find_maximum_clique()\n",
    "sparse_big_max_clique_cp = optimized_carraghan_pardalos(G_sparse_big)\n",
    "sparse_big_intersection_set_cp = sparse_big_largest.intersection(sparse_big_max_clique_cp)\n",
    "\n",
    "print(f\"Maximum clique {len(sparse_big_max_clique_cp)}: {sparse_big_max_clique_cp}\")\n",
    "print(f\"CP intersection set {len(sparse_big_intersection_set_cp)}: {sparse_big_intersection_set_cp}\")\n",
    "print(\"-\"*100)"
   ]
  },
  {
   "cell_type": "code",
   "execution_count": 39,
   "metadata": {},
   "outputs": [
    {
     "name": "stdout",
     "output_type": "stream",
     "text": [
      "Bron-Kerbosh experiment\n",
      "find_max_clique took 10.5083169171 seconds to execute\n",
      "Maximum clique 97 <class 'set'>: {'153', '137', '111', '148', '147', '80', '132', '84', '91', '170', '140', '141', '101', '108', '144', '117', '98', '115', '122', '79', '87', '156', '105', '161', '168', '172', '77', '127', '100', '94', '173', '167', '135', '118', '78', '154', '93', '131', '155', '121', '126', '102', '88', '110', '112', '142', '145', '104', '138', '171', '150', '83', '133', '89', '120', '143', '81', '86', '134', '96', '114', '97', '139', '152', '164', '85', '166', '119', '151', '157', '165', '82', '129', '162', '163', '95', '159', '160', '128', '99', '90', '158', '146', '103', '92', '169', '136', '107', '116', '149', '125', '130', '109', '124', '123', '113', '106'}\n",
      "BK intersection set 97: {'147', '84', '91', '170', '140', '144', '117', '122', '98', '87', '105', '161', '172', '77', '100', '94', '173', '167', '93', '155', '126', '88', '104', '138', '150', '133', '120', '143', '81', '114', '139', '85', '151', '82', '129', '159', '99', '158', '146', '103', '169', '136', '107', '116', '125', '130', '109', '124', '123', '113', '106', '153', '137', '111', '148', '80', '132', '141', '101', '108', '115', '79', '156', '168', '135', '118', '78', '154', '131', '121', '102', '110', '142', '112', '145', '171', '83', '89', '86', '134', '96', '97', '152', '164', '166', '119', '157', '165', '162', '163', '95', '160', '128', '90', '92', '149', '127'}\n",
      "----------------------------------------------------------------------------------------------------\n"
     ]
    }
   ],
   "source": [
    "print(\"Bron-Kerbosh experiment\")\n",
    "bk_solver = BronKerbosch(G_sparse_big)\n",
    "sparse_big_max_clique_bk: set = bk_solver.find_max_clique()\n",
    "sparse_big_intersection_set_bk = sparse_big_largest.intersection(sparse_big_max_clique_bk)\n",
    "\n",
    "print(f\"Maximum clique {len(sparse_big_max_clique_bk)} {type(sparse_big_max_clique_bk)}: {sparse_big_max_clique_bk}\")\n",
    "print(f\"BK intersection set {len(sparse_big_intersection_set_bk)}: {sparse_big_intersection_set_bk}\")\n",
    "print(\"-\"*100)"
   ]
  },
  {
   "cell_type": "code",
   "execution_count": 49,
   "metadata": {},
   "outputs": [
    {
     "name": "stdout",
     "output_type": "stream",
     "text": [
      "Tabu-Search experiment\n",
      "find_maximum_clique took 4.1265284999 seconds to execute\n",
      "Maximum clique 69: {'1094', '1089', '1120', '1077', '1078', '1123', '1083', '1105', '1093', '1086', '1107', '1112', '1117', '1122', '1108', '1085', '1081', '1128', '1073', '1104', '1080', '1096', '1119', '1126', '1102', '1066', '1087', '1067', '1100', '1125', '1075', '1062', '1069', '1129', '1072', '1095', '1103', '1109', '1090', '1063', '1071', '1121', '1097', '1116', '1106', '1114', '1068', '1070', '1076', '1064', '1065', '1082', '1079', '1124', '1111', '1118', '1091', '1099', '1115', '1098', '1084', '1127', '1061', '1074', '1088', '1101', '1092', '1113', '1110'}\n",
      "Tabu intersection set 0: set()\n",
      "----------------------------------------------------------------------------------------------------\n"
     ]
    }
   ],
   "source": [
    "\n",
    "print(\"Tabu-Search experiment\")\n",
    "tabu_solver: TabuCliqueFinder = TabuCliqueFinder(G_sparse_big, tabu_tenure=20, max_iterations=800)\n",
    "sparse_big_max_clique_tabu: set = tabu_solver.find_maximum_clique()\n",
    "sparse_big_intersection_set_tabu = sparse_big_largest.intersection(sparse_big_max_clique_tabu)\n",
    "\n",
    "print(f\"Maximum clique {len(sparse_big_max_clique_tabu)}: {sparse_big_max_clique_tabu}\")\n",
    "print(f\"Tabu intersection set {len(sparse_big_intersection_set_tabu)}: {sparse_big_intersection_set_tabu}\")\n",
    "print(\"-\"*100)"
   ]
  },
  {
   "cell_type": "code",
   "execution_count": 50,
   "metadata": {},
   "outputs": [
    {
     "name": "stdout",
     "output_type": "stream",
     "text": [
      "Nodes: 2137\n",
      "Tuned Tabu-Search experiment\n",
      "find_maximum_clique took 4.7831728330 seconds to execute\n",
      "Maximum clique 75: {'237', '288', '246', '284', '293', '297', '274', '282', '270', '285', '305', '243', '238', '241', '261', '242', '268', '290', '248', '276', '264', '289', '295', '303', '257', '240', '306', '267', '254', '244', '279', '239', '271', '304', '255', '250', '260', '265', '302', '249', '281', '259', '275', '273', '269', '296', '307', '256', '236', '266', '258', '283', '287', '310', '298', '309', '301', '245', '300', '252', '291', '299', '292', '294', '251', '277', '262', '280', '286', '253', '272', '308', '247', '263', '278'}\n",
      "Tabu intersection set 0: set()\n",
      "----------------------------------------------------------------------------------------------------\n"
     ]
    }
   ],
   "source": [
    "nodes: int = G_sparse_big.number_of_nodes() \n",
    "tabu_tenure: int = nodes // 4\n",
    "\n",
    "print(f\"Nodes: {nodes}\")\n",
    "\n",
    "print(\"Tuned Tabu-Search experiment\")\n",
    "tabu_solver_2: TabuCliqueFinder = TabuCliqueFinder(G_sparse_big, tabu_tenure=tabu_tenure, max_iterations=800)\n",
    "sparse_big_max_clique_tabu_2: set = tabu_solver_2.find_maximum_clique()\n",
    "sparse_big_intersection_set_tabu_2 = sparse_big_largest.intersection(sparse_big_max_clique_tabu_2)\n",
    "\n",
    "print(f\"Maximum clique {len(sparse_big_max_clique_tabu_2)}: {sparse_big_max_clique_tabu_2}\")\n",
    "print(f\"Tabu intersection set {len(sparse_big_intersection_set_tabu_2)}: {sparse_big_intersection_set_tabu_2}\")\n",
    "print(\"-\"*100)"
   ]
  },
  {
   "cell_type": "markdown",
   "metadata": {},
   "source": [
    "## Densely Connected Big Graph"
   ]
  },
  {
   "cell_type": "code",
   "execution_count": 42,
   "metadata": {},
   "outputs": [
    {
     "name": "stdout",
     "output_type": "stream",
     "text": [
      "Tabu-Search experiment\n",
      "find_maximum_clique took 29.1966152501 seconds to execute\n",
      "Maximum clique 19: {'1159', '1694', '1784', '2077', '1720', '2075', '2134', '1134', '1344', '2114', '611', '814', '2093', '867', '1764', '1719', '2095', '1143', '808'}\n",
      "----------------------------------------------------------------------------------------------------\n"
     ]
    }
   ],
   "source": [
    "\n",
    "print(\"Tabu-Search experiment\")\n",
    "tabu_solver: TabuCliqueFinder = TabuCliqueFinder(G_dense_big, tabu_tenure=20, max_iterations=800)\n",
    "dense_big_max_clique_tabu: set = tabu_solver.find_maximum_clique()\n",
    "# dense_big_intersection_set_tabu = dense_big_largest.intersection(dense_big_max_clique_tabu)\n",
    "\n",
    "print(f\"Maximum clique {len(dense_big_max_clique_tabu)}: {dense_big_max_clique_tabu}\")\n",
    "# print(f\"Tabu intersection set {len(dense_big_intersection_set_tabu)}: {dense_big_intersection_set_tabu}\")\n",
    "print(\"-\"*100)"
   ]
  },
  {
   "cell_type": "code",
   "execution_count": 43,
   "metadata": {},
   "outputs": [
    {
     "name": "stdout",
     "output_type": "stream",
     "text": [
      "Nodes: 2137\n",
      "Tabu-Search experiment\n",
      "find_maximum_clique took 33.4370403329 seconds to execute\n",
      "Maximum clique 21: {'1409', '316', '1175', '343', '885', '1161', '2074', '1403', '1142', '1319', '1404', '341', '1732', '230', '352', '1676', '751', '812', '1212', '354', '1143'}\n",
      "----------------------------------------------------------------------------------------------------\n"
     ]
    }
   ],
   "source": [
    "nodes: int = G_dense_big.number_of_nodes() \n",
    "tabu_tenure: int = nodes // 4\n",
    "\n",
    "print(f\"Nodes: {nodes}\")\n",
    "\n",
    "print(\"Tabu-Search experiment\")\n",
    "tabu_solver_2: TabuCliqueFinder = TabuCliqueFinder(G_dense_big, tabu_tenure=tabu_tenure, max_iterations=800)\n",
    "dense_big_max_clique_tabu_2: set = tabu_solver_2.find_maximum_clique()\n",
    "\n",
    "print(f\"Maximum clique {len(dense_big_max_clique_tabu_2)}: {dense_big_max_clique_tabu_2}\")\n",
    "print(\"-\"*100)"
   ]
  },
  {
   "cell_type": "code",
   "execution_count": 44,
   "metadata": {},
   "outputs": [],
   "source": [
    "# print(\"Densly connected big graph\\n\\n\")\n",
    "\n",
    "# print(\"Carraghan-Pardalos experiment\")\n",
    "# # cp_solver: CarraghanPardalosCF = CarraghanPardalosCF(G_dense_big)\n",
    "# # dense_big_max_clique_cp: set = cp_solver.find_maximum_clique()\n",
    "# dense_big_max_clique_cp = optimized_carraghan_pardalos(G_dense_big)\n",
    "# # dense_big_intersection_set_cp = dense_big_largest.intersection(dense_big_max_clique_cp)\n",
    "\n",
    "# print(f\"Maximum clique {len(dense_big_max_clique_cp)}: {dense_big_max_clique_cp}\")\n",
    "# # print(f\"CP intersection set {len(dense_big_intersection_set_cp)}: {dense_big_intersection_set_cp}\")\n",
    "# print(\"-\"*100)\n",
    "\n",
    "\n"
   ]
  },
  {
   "cell_type": "code",
   "execution_count": 45,
   "metadata": {},
   "outputs": [],
   "source": [
    "# print(\"Bron-Kerbosh experiment\")\n",
    "# bk_solver = BronKerbosch(G_dense_big)\n",
    "# dense_big_max_clique_bk: set = bk_solver.find_max_clique()\n",
    "# # dense_big_intersection_set_bk = dense_big_largest.intersection(dense_big_max_clique_bk)\n",
    "\n",
    "# print(f\"Maximum clique {len(dense_big_max_clique_bk)} {type(dense_big_max_clique_bk)}: {dense_big_max_clique_bk}\")\n",
    "# # print(f\"BK intersection set {len(dense_big_intersection_set_bk)}: {dense_big_intersection_set_bk}\")\n",
    "# print(\"-\"*100)"
   ]
  }
 ],
 "metadata": {
  "kernelspec": {
   "display_name": "venv",
   "language": "python",
   "name": "python3"
  },
  "language_info": {
   "codemirror_mode": {
    "name": "ipython",
    "version": 3
   },
   "file_extension": ".py",
   "mimetype": "text/x-python",
   "name": "python",
   "nbconvert_exporter": "python",
   "pygments_lexer": "ipython3",
   "version": "3.10.12"
  }
 },
 "nbformat": 4,
 "nbformat_minor": 2
}
