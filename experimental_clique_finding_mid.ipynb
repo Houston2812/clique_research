{
 "cells": [
  {
   "cell_type": "markdown",
   "metadata": {},
   "source": [
    "# Execution of different clique finding algorithms"
   ]
  },
  {
   "cell_type": "code",
   "execution_count": 1,
   "metadata": {},
   "outputs": [],
   "source": [
    "from libs import *\n",
    "files = {\n",
    "    \"nc_mid\" : \"graphs/multiple/nc_mid_clique.json\",\n",
    "    \"sparse_mid\" : \"graphs/multiple/sparse_mid_clique.json\",\n",
    "    \"dense_mid\" : \"graphs/multiple/dense_mid_clique.json\",\n",
    "}"
   ]
  },
  {
   "cell_type": "code",
   "execution_count": 2,
   "metadata": {},
   "outputs": [
    {
     "name": "stdout",
     "output_type": "stream",
     "text": [
      "Graph Analysis:\n",
      "Number of nodes: 338\n",
      "Number of edges: 3804\n",
      "Average degree: 22.51\n",
      "Density: 0.067\n",
      "Maximum clique: {'190', '179', '195', '180', '176', '184', '196', '181', '198', '185', '177', '191', '193', '200', '194', '183', '192', '189', '188', '199', '186', '197', '204', '201', '202', '187', '178', '182', '203'}\n"
     ]
    }
   ],
   "source": [
    "nc_mid = files[\"nc_mid\"]\n",
    "G_nc_mid = load_graph_from_json(nc_mid)\n",
    "nc_mid_largest = set(analyze_graph(G_nc_mid))"
   ]
  },
  {
   "cell_type": "code",
   "execution_count": 3,
   "metadata": {},
   "outputs": [
    {
     "name": "stdout",
     "output_type": "stream",
     "text": [
      "Graph Analysis:\n",
      "Number of nodes: 338\n",
      "Number of edges: 9756\n",
      "Average degree: 57.73\n",
      "Density: 0.171\n",
      "Maximum clique: {'190', '179', '195', '180', '176', '184', '196', '181', '198', '185', '177', '191', '193', '200', '183', '194', '192', '188', '189', '199', '186', '197', '204', '201', '202', '187', '178', '182', '203'}\n"
     ]
    }
   ],
   "source": [
    "sparse_mid = files[\"sparse_mid\"]\n",
    "G_sparse_mid = load_graph_from_json(sparse_mid)\n",
    "sparse_mid_largest = set(analyze_graph(G_sparse_mid))"
   ]
  },
  {
   "cell_type": "code",
   "execution_count": 4,
   "metadata": {},
   "outputs": [
    {
     "name": "stdout",
     "output_type": "stream",
     "text": [
      "Graph Analysis:\n",
      "Number of nodes: 338\n",
      "Number of edges: 33611\n",
      "Average degree: 198.88\n",
      "Density: 0.590\n",
      "Maximum clique: {'190', '179', '195', '180', '176', '184', '196', '181', '198', '185', '177', '191', '193', '200', '194', '183', '192', '188', '189', '199', '186', '197', '204', '201', '202', '187', '178', '182', '203'}\n"
     ]
    }
   ],
   "source": [
    "dense_mid = files[\"dense_mid\"]\n",
    "G_dense_mid = load_graph_from_json(dense_mid)\n",
    "dense_mid_largest = set(analyze_graph(G_dense_mid))"
   ]
  },
  {
   "cell_type": "code",
   "execution_count": 5,
   "metadata": {},
   "outputs": [
    {
     "name": "stdout",
     "output_type": "stream",
     "text": [
      "Size of max clique for nc: 29\n",
      "Size of max clique for sparse: 29\n",
      "Size of max clique for dense: 29\n"
     ]
    }
   ],
   "source": [
    "print(f\"Size of max clique for nc: {len(nc_mid_largest)}\")\n",
    "print(f\"Size of max clique for sparse: {len(sparse_mid_largest)}\")\n",
    "print(f\"Size of max clique for dense: {len(dense_mid_largest)}\")"
   ]
  },
  {
   "cell_type": "markdown",
   "metadata": {},
   "source": [
    "## Not connected medium graph"
   ]
  },
  {
   "cell_type": "code",
   "execution_count": null,
   "metadata": {},
   "outputs": [
    {
     "name": "stdout",
     "output_type": "stream",
     "text": [
      "Not connected medium graph analysis\n",
      "\n",
      "\n",
      "Carraghan-Pardalos experiment\n",
      "optimized_carraghan_pardalos took 0.0053140828 seconds to execute\n",
      "Maximum clique 29: {'190', '179', '195', '188', '180', '189', '199', '176', '186', '184', '197', '181', '196', '204', '201', '198', '202', '185', '187', '177', '191', '178', '182', '193', '200', '194', '183', '203', '192'}\n",
      "CP intersection set 29: {'190', '179', '195', '180', '176', '184', '196', '181', '198', '185', '177', '191', '193', '200', '194', '183', '192', '188', '189', '199', '186', '197', '204', '201', '202', '187', '178', '182', '203'}\n",
      "----------------------------------------------------------------------------------------------------\n"
     ]
    }
   ],
   "source": [
    "print(\"Not connected medium graph analysis\\n\\n\")\n",
    "\n",
    "print(\"Carraghan-Pardalos experiment\")\n",
    "nc_mid_max_clique_cp = optimized_carraghan_pardalos(G_nc_mid)\n",
    "nc_mid_intersection_set_cp = nc_mid_largest.intersection(nc_mid_max_clique_cp)\n",
    "\n",
    "print(f\"Maximum clique {len(nc_mid_max_clique_cp)}: {nc_mid_max_clique_cp}\")\n",
    "print(f\"CP intersection set {len(nc_mid_intersection_set_cp)}: {nc_mid_intersection_set_cp}\")\n",
    "print(\"-\"*100)\n"
   ]
  },
  {
   "cell_type": "code",
   "execution_count": 28,
   "metadata": {},
   "outputs": [
    {
     "name": "stdout",
     "output_type": "stream",
     "text": [
      "Bron-Kerbosh experiment\n",
      "find_max_clique took 0.0019224582 seconds to execute\n",
      "Maximum clique 29 <class 'set'>: {'204', '185', '182', '183', '188', '176', '200', '193', '181', '186', '184', '202', '189', '191', '178', '192', '198', '187', '177', '196', '195', '190', '201', '203', '194', '180', '179', '199', '197'}\n",
      "BK intersection set 29: {'188', '200', '184', '189', '178', '192', '198', '187', '177', '194', '199', '204', '185', '182', '183', '176', '193', '181', '186', '202', '191', '196', '195', '190', '201', '203', '180', '179', '197'}\n",
      "----------------------------------------------------------------------------------------------------\n"
     ]
    }
   ],
   "source": [
    "print(\"Bron-Kerbosh experiment\")\n",
    "bk_solver = BronKerbosch(G_nc_mid)\n",
    "nc_mid_max_clique_bk: set = bk_solver.find_max_clique()\n",
    "nc_mid_intersection_set_bk = nc_mid_largest.intersection(nc_mid_max_clique_bk)\n",
    "\n",
    "print(f\"Maximum clique {len(nc_mid_max_clique_bk)} {type(nc_mid_max_clique_bk)}: {nc_mid_max_clique_bk}\")\n",
    "print(f\"BK intersection set {len(nc_mid_intersection_set_bk)}: {nc_mid_intersection_set_bk}\")\n",
    "print(\"-\"*100)\n"
   ]
  },
  {
   "cell_type": "code",
   "execution_count": 29,
   "metadata": {},
   "outputs": [
    {
     "name": "stdout",
     "output_type": "stream",
     "text": [
      "Tabu-Search experiment\n",
      "find_maximum_clique took 0.0260921658 seconds to execute\n",
      "Maximum clique 27: {'234', '230', '238', '248', '236', '231', '237', '243', '253', '254', '245', '239', '229', '240', '255', '244', '247', '233', '252', '242', '251', '249', '250', '246', '241', '232', '235'}\n",
      "Tabu intersection set 0: set()\n",
      "----------------------------------------------------------------------------------------------------\n"
     ]
    }
   ],
   "source": [
    "print(\"Tabu-Search experiment\")\n",
    "tabu_solver: TabuCliqueFinder = TabuCliqueFinder(G_nc_mid, tabu_tenure=10, max_iterations=150)\n",
    "nc_mid_max_clique_tabu: set = tabu_solver.find_maximum_clique()\n",
    "nc_mid_intersection_set_tabu = nc_mid_largest.intersection(nc_mid_max_clique_tabu)\n",
    "\n",
    "print(f\"Maximum clique {len(nc_mid_max_clique_tabu)}: {nc_mid_max_clique_tabu}\")\n",
    "print(f\"Tabu intersection set {len(nc_mid_intersection_set_tabu)}: {nc_mid_intersection_set_tabu}\")\n",
    "print(\"-\"*100)"
   ]
  },
  {
   "cell_type": "code",
   "execution_count": 30,
   "metadata": {},
   "outputs": [
    {
     "name": "stdout",
     "output_type": "stream",
     "text": [
      "Nodes: 338\n",
      "Tuned Tabu-Search experiment\n",
      "find_maximum_clique took 0.0223849169 seconds to execute\n",
      "Maximum clique 19: {'264', '269', '268', '258', '256', '257', '263', '271', '265', '262', '266', '273', '260', '261', '267', '274', '272', '259', '270'}\n",
      "Tabu intersection set 0: set()\n",
      "----------------------------------------------------------------------------------------------------\n"
     ]
    }
   ],
   "source": [
    "nodes: int = G_nc_mid.number_of_nodes() \n",
    "tabu_tenure: int = nodes // 4\n",
    "\n",
    "print(f\"Nodes: {nodes}\")\n",
    "\n",
    "print(\"Tuned Tabu-Search experiment\")\n",
    "tabu_solver_2: TabuCliqueFinder = TabuCliqueFinder(G_nc_mid, tabu_tenure=tabu_tenure, max_iterations=150)\n",
    "nc_mid_max_clique_tabu_2: set = tabu_solver_2.find_maximum_clique()\n",
    "nc_mid_intersection_set_tabu_2 = sparse_mid_largest.intersection(nc_mid_max_clique_tabu_2)\n",
    "\n",
    "print(f\"Maximum clique {len(nc_mid_max_clique_tabu_2)}: {nc_mid_max_clique_tabu_2}\")\n",
    "print(f\"Tabu intersection set {len(nc_mid_intersection_set_tabu_2)}: {nc_mid_intersection_set_tabu_2}\")\n",
    "print(\"-\"*100)"
   ]
  },
  {
   "cell_type": "markdown",
   "metadata": {},
   "source": [
    "## Sparsely connected medium graph"
   ]
  },
  {
   "cell_type": "code",
   "execution_count": null,
   "metadata": {},
   "outputs": [
    {
     "name": "stdout",
     "output_type": "stream",
     "text": [
      "Sparsely connected medium graph\n",
      "Carraghan-Pardalos experiment\n",
      "optimized_carraghan_pardalos took 0.0284417921 seconds to execute\n",
      "Maximum clique 29: {'190', '179', '195', '189', '180', '188', '199', '176', '186', '184', '197', '196', '181', '204', '201', '198', '202', '185', '187', '177', '191', '178', '193', '182', '200', '194', '203', '183', '192'}\n",
      "CP intersection set 29: {'190', '179', '195', '180', '176', '184', '181', '196', '198', '185', '177', '191', '193', '200', '194', '183', '192', '189', '188', '199', '186', '197', '204', '201', '202', '187', '178', '182', '203'}\n",
      "----------------------------------------------------------------------------------------------------\n"
     ]
    }
   ],
   "source": [
    "\n",
    "print(\"Sparsely connected medium graph\")\n",
    "\n",
    "print(\"Carraghan-Pardalos experiment\")\n",
    "sparse_mid_max_clique_cp = optimized_carraghan_pardalos(G_sparse_mid)\n",
    "sparse_mid_intersection_set_cp = sparse_mid_largest.intersection(sparse_mid_max_clique_cp)\n",
    "\n",
    "print(f\"Maximum clique {len(sparse_mid_max_clique_cp)}: {sparse_mid_max_clique_cp}\")\n",
    "print(f\"CP intersection set {len(sparse_mid_intersection_set_cp)}: {sparse_mid_intersection_set_cp}\")\n",
    "print(\"-\"*100)\n",
    "\n"
   ]
  },
  {
   "cell_type": "code",
   "execution_count": 32,
   "metadata": {},
   "outputs": [
    {
     "name": "stdout",
     "output_type": "stream",
     "text": [
      "Bron-Kerbosh experiment\n",
      "find_max_clique took 0.0525529161 seconds to execute\n",
      "Maximum clique 29 <class 'set'>: {'204', '185', '182', '183', '193', '188', '176', '200', '186', '181', '184', '202', '191', '189', '178', '192', '198', '187', '177', '196', '195', '190', '201', '194', '203', '180', '179', '199', '197'}\n",
      "BK intersection set 29: {'188', '200', '184', '189', '178', '192', '198', '187', '177', '194', '199', '204', '185', '182', '183', '193', '176', '186', '181', '202', '191', '196', '195', '190', '201', '203', '180', '179', '197'}\n",
      "----------------------------------------------------------------------------------------------------\n"
     ]
    }
   ],
   "source": [
    "print(\"Bron-Kerbosh experiment\")\n",
    "bk_solver = BronKerbosch(G_sparse_mid)\n",
    "sparse_mid_max_clique_bk: set = bk_solver.find_max_clique()\n",
    "sparse_mid_intersection_set_bk = sparse_mid_largest.intersection(sparse_mid_max_clique_bk)\n",
    "\n",
    "print(f\"Maximum clique {len(sparse_mid_max_clique_bk)} {type(sparse_mid_max_clique_bk)}: {sparse_mid_max_clique_bk}\")\n",
    "print(f\"BK intersection set {len(sparse_mid_intersection_set_bk)}: {sparse_mid_intersection_set_bk}\")\n",
    "print(\"-\"*100)\n",
    "\n"
   ]
  },
  {
   "cell_type": "code",
   "execution_count": 33,
   "metadata": {},
   "outputs": [
    {
     "name": "stdout",
     "output_type": "stream",
     "text": [
      "Tabu-Search experiment\n",
      "find_maximum_clique took 0.0466025001 seconds to execute\n",
      "Maximum clique 7: {'57', '60', '53', '51', '52', '261', '54'}\n",
      "Tabu intersection set 0: set()\n",
      "----------------------------------------------------------------------------------------------------\n"
     ]
    }
   ],
   "source": [
    "print(\"Tabu-Search experiment\")\n",
    "tabu_solver: TabuCliqueFinder = TabuCliqueFinder(G_sparse_mid, tabu_tenure=20, max_iterations=150)\n",
    "sparse_mid_max_clique_tabu: set = tabu_solver.find_maximum_clique()\n",
    "sparse_mid_intersection_set_tabu = sparse_mid_largest.intersection(sparse_mid_max_clique_tabu)\n",
    "\n",
    "print(f\"Maximum clique {len(sparse_mid_max_clique_tabu)}: {sparse_mid_max_clique_tabu}\")\n",
    "print(f\"Tabu intersection set {len(sparse_mid_intersection_set_tabu)}: {sparse_mid_intersection_set_tabu}\")\n",
    "print(\"-\"*100)"
   ]
  },
  {
   "cell_type": "code",
   "execution_count": 34,
   "metadata": {},
   "outputs": [
    {
     "name": "stdout",
     "output_type": "stream",
     "text": [
      "Nodes: 338\n",
      "Tuned Tabu-Search experiment\n",
      "find_maximum_clique took 0.0535766662 seconds to execute\n",
      "Maximum clique 28: {'106', '105', '116', '107', '101', '110', '98', '113', '103', '125', '120', '118', '112', '104', '99', '117', '111', '109', '115', '102', '123', '100', '114', '121', '119', '108', '122', '124'}\n",
      "Tabu intersection set 0: set()\n",
      "----------------------------------------------------------------------------------------------------\n"
     ]
    }
   ],
   "source": [
    "nodes: int = G_sparse_mid.number_of_nodes() \n",
    "tabu_tenure: int = nodes // 4\n",
    "\n",
    "print(f\"Nodes: {nodes}\")\n",
    "\n",
    "print(\"Tuned Tabu-Search experiment\")\n",
    "tabu_solver_2: TabuCliqueFinder = TabuCliqueFinder(G_sparse_mid, tabu_tenure=tabu_tenure, max_iterations=150)\n",
    "sparse_mid_max_clique_tabu_2: set = tabu_solver_2.find_maximum_clique()\n",
    "sparse_mid_intersection_set_tabu_2 = sparse_mid_largest.intersection(sparse_mid_max_clique_tabu_2)\n",
    "\n",
    "print(f\"Maximum clique {len(sparse_mid_max_clique_tabu_2)}: {sparse_mid_max_clique_tabu_2}\")\n",
    "print(f\"Tabu intersection set {len(sparse_mid_intersection_set_tabu_2)}: {sparse_mid_intersection_set_tabu_2}\")\n",
    "print(\"-\"*100)"
   ]
  },
  {
   "cell_type": "markdown",
   "metadata": {},
   "source": [
    "## Densely connected medium graph"
   ]
  },
  {
   "cell_type": "code",
   "execution_count": null,
   "metadata": {},
   "outputs": [],
   "source": [
    "print(\"Densly connected medium graph\")\n",
    "\n",
    "print(\"Carraghan-Pardalos experiment\")\n",
    "dense_mid_max_clique_cp = optimized_carraghan_pardalos(G_dense_mid)\n",
    "dense_mid_intersection_set_cp = dense_mid_largest.intersection(dense_mid_max_clique_cp)\n",
    "\n",
    "print(f\"Maximum clique {len(dense_mid_max_clique_cp)}: {dense_mid_max_clique_cp}\")\n",
    "print(f\"CP intersection set {len(dense_mid_intersection_set_cp)}: {dense_mid_intersection_set_cp}\")\n",
    "print(\"-\"*100)\n"
   ]
  },
  {
   "cell_type": "code",
   "execution_count": 39,
   "metadata": {},
   "outputs": [
    {
     "name": "stdout",
     "output_type": "stream",
     "text": [
      "Bron-Kerbosh experiment\n",
      "find_max_clique took 1389.3778945000 seconds to execute\n",
      "Maximum clique 29 <class 'set'>: {'204', '185', '183', '188', '176', '193', '200', '182', '186', '181', '184', '202', '189', '191', '192', '198', '178', '187', '196', '177', '195', '190', '201', '194', '203', '180', '179', '199', '197'}\n",
      "BK intersection set 29: {'188', '200', '184', '189', '178', '192', '198', '187', '177', '194', '199', '204', '185', '183', '182', '176', '193', '186', '181', '202', '191', '196', '195', '190', '201', '203', '180', '179', '197'}\n",
      "----------------------------------------------------------------------------------------------------\n"
     ]
    }
   ],
   "source": [
    "\n",
    "print(\"Bron-Kerbosh experiment\")\n",
    "bk_solver = BronKerbosch(G_dense_mid)\n",
    "dense_mid_max_clique_bk: set = bk_solver.find_max_clique()\n",
    "dense_mid_intersection_set_bk = dense_mid_largest.intersection(dense_mid_max_clique_bk)\n",
    "\n",
    "print(f\"Maximum clique {len(dense_mid_max_clique_bk)} {type(dense_mid_max_clique_bk)}: {dense_mid_max_clique_bk}\")\n",
    "print(f\"BK intersection set {len(dense_mid_intersection_set_bk)}: {dense_mid_intersection_set_bk}\")\n",
    "print(\"-\"*100)\n",
    "\n"
   ]
  },
  {
   "cell_type": "code",
   "execution_count": 37,
   "metadata": {},
   "outputs": [
    {
     "name": "stdout",
     "output_type": "stream",
     "text": [
      "Tabu-Search experiment\n",
      "find_maximum_clique took 0.2049722499 seconds to execute\n",
      "Maximum clique 14: {'72', '307', '240', '66', '312', '311', '70', '89', '73', '249', '149', '39', '245', '315'}\n",
      "Tabu intersection set 0: set()\n",
      "----------------------------------------------------------------------------------------------------\n"
     ]
    }
   ],
   "source": [
    "print(\"Tabu-Search experiment\")\n",
    "tabu_solver: TabuCliqueFinder = TabuCliqueFinder(G_dense_mid, tabu_tenure=20, max_iterations=150)\n",
    "dense_mid_max_clique_tabu: set = tabu_solver.find_maximum_clique()\n",
    "dense_mid_intersection_set_tabu = dense_mid_largest.intersection(dense_mid_max_clique_tabu)\n",
    "\n",
    "print(f\"Maximum clique {len(dense_mid_max_clique_tabu)}: {dense_mid_max_clique_tabu}\")\n",
    "print(f\"Tabu intersection set {len(dense_mid_intersection_set_tabu)}: {dense_mid_intersection_set_tabu}\")\n",
    "print(\"-\"*100)"
   ]
  },
  {
   "cell_type": "code",
   "execution_count": 38,
   "metadata": {},
   "outputs": [
    {
     "name": "stdout",
     "output_type": "stream",
     "text": [
      "Nodes: 338\n",
      "Tuned Tabu-Search experiment\n",
      "find_maximum_clique took 0.1946886249 seconds to execute\n",
      "Maximum clique 15: {'132', '86', '169', '44', '48', '70', '57', '82', '122', '51', '315', '52', '67', '64', '87'}\n",
      "Tabu intersection set 0: set()\n",
      "----------------------------------------------------------------------------------------------------\n"
     ]
    }
   ],
   "source": [
    "nodes: int = G_dense_mid.number_of_nodes() \n",
    "tabu_tenure: int = nodes // 4\n",
    "\n",
    "print(f\"Nodes: {nodes}\")\n",
    "\n",
    "print(\"Tuned Tabu-Search experiment\")\n",
    "tabu_solver_2: TabuCliqueFinder = TabuCliqueFinder(G_dense_mid, tabu_tenure=tabu_tenure, max_iterations=150)\n",
    "dense_mid_max_clique_tabu_2: set = tabu_solver_2.find_maximum_clique()\n",
    "dense_mid_intersection_set_tabu_2 = dense_mid_largest.intersection(dense_mid_max_clique_tabu_2)\n",
    "\n",
    "print(f\"Maximum clique {len(dense_mid_max_clique_tabu_2)}: {dense_mid_max_clique_tabu_2}\")\n",
    "print(f\"Tabu intersection set {len(dense_mid_intersection_set_tabu_2)}: {dense_mid_intersection_set_tabu_2}\")\n",
    "print(\"-\"*100)"
   ]
  }
 ],
 "metadata": {
  "kernelspec": {
   "display_name": "venv",
   "language": "python",
   "name": "python3"
  },
  "language_info": {
   "codemirror_mode": {
    "name": "ipython",
    "version": 3
   },
   "file_extension": ".py",
   "mimetype": "text/x-python",
   "name": "python",
   "nbconvert_exporter": "python",
   "pygments_lexer": "ipython3",
   "version": "3.10.12"
  }
 },
 "nbformat": 4,
 "nbformat_minor": 2
}
